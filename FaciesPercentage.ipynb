{
  "nbformat": 4,
  "nbformat_minor": 0,
  "metadata": {
    "colab": {
      "name": "FaciesPercentage.ipynb",
      "provenance": [],
      "toc_visible": true,
      "include_colab_link": true
    },
    "kernelspec": {
      "display_name": "Python 3",
      "name": "python3"
    }
  },
  "cells": [
    {
      "cell_type": "markdown",
      "metadata": {
        "id": "view-in-github",
        "colab_type": "text"
      },
      "source": [
        "<a href=\"https://colab.research.google.com/github/lsaif/FaciesPercentage/blob/main/FaciesPercentage.ipynb\" target=\"_parent\"><img src=\"https://colab.research.google.com/assets/colab-badge.svg\" alt=\"Open In Colab\"/></a>"
      ]
    },
    {
      "cell_type": "markdown",
      "metadata": {
        "id": "tWWhdkfzJMw_"
      },
      "source": [
        "###**Facies Percentage**\n",
        "\n",
        "These codes below allow you to determine lithology based on log conditions and calculate its lithology percentage for each interval. It is free for you to input LAS file or directly use a preconditioned data which already has a lithology log. A function to enable multi-well analysis and improve the flexibility is still under development."
      ]
    },
    {
      "cell_type": "markdown",
      "metadata": {
        "id": "qQkmmW80h-gj"
      },
      "source": [
        "####**Flowchart**\n",
        "This is the workflow\n",
        "\n",
        "![Flowchart](https://drive.google.com/uc?id=1LGszma_EOvzcBFUyQMc1GAfu9AvgMjN1)\n",
        "\n"
      ]
    },
    {
      "cell_type": "markdown",
      "metadata": {
        "id": "zjfKEyeB5V-i"
      },
      "source": [
        "####**Import Dependencies and Build Functions**\n",
        "\n",
        "Please run these 3 column of codes to enable all funtions required to calculate facies percentage"
      ]
    },
    {
      "cell_type": "code",
      "metadata": {
        "id": "rln4zhstI8yG",
        "colab": {
          "base_uri": "https://localhost:8080/"
        },
        "outputId": "656ef223-4471-4395-b306-e4e713dc2b5e"
      },
      "source": [
        "# Install lasio (required)\n",
        "!pip install lasio"
      ],
      "execution_count": null,
      "outputs": [
        {
          "output_type": "stream",
          "text": [
            "Collecting lasio\n",
            "  Downloading https://files.pythonhosted.org/packages/5e/8e/ce58a22ec8454a12f92333a50f2add5f6131218c4815952d6ca7cbd578f0/lasio-0.28-py3-none-any.whl\n",
            "Requirement already satisfied: numpy in /usr/local/lib/python3.6/dist-packages (from lasio) (1.18.5)\n",
            "Installing collected packages: lasio\n",
            "Successfully installed lasio-0.28\n"
          ],
          "name": "stdout"
        }
      ]
    },
    {
      "cell_type": "code",
      "metadata": {
        "id": "nY_n4vpPudHK",
        "colab": {
          "base_uri": "https://localhost:8080/"
        },
        "outputId": "c75871b9-f4ac-4b64-9fb8-8d9957f3acc2"
      },
      "source": [
        "#Mount your google drive directory, you don't need to do this if you use your local machine.\n",
        "from google.colab import drive\n",
        "drive.mount('/content/drive')"
      ],
      "execution_count": null,
      "outputs": [
        {
          "output_type": "stream",
          "text": [
            "Mounted at /content/drive\n"
          ],
          "name": "stdout"
        }
      ]
    },
    {
      "cell_type": "code",
      "metadata": {
        "id": "g314sPBJ5ZQ0"
      },
      "source": [
        "#Import all dependencies and stretch the data limit\n",
        "import pandas as pd\n",
        "import sys\n",
        "import numpy as np\n",
        "import matplotlib.pyplot as plt\n",
        "import lasio\n",
        "\n",
        "np.set_printoptions(threshold=sys.maxsize)\n",
        "pd.set_option('display.max_rows', None)\n",
        "pd.set_option('display.max_columns', None)\n",
        "pd.set_option('display.width', None)\n",
        "\n",
        "#Function to add your lasfile and embed the tops of intervals\n",
        "#source_dir = directory of your data\n",
        "#lasfile = LAS file name\n",
        "#topsfile = Tops data file name\n",
        "def InputWell(source_dir,lasfile, topsfile):\n",
        "  #Import your LAS file and convert it to a dataframe\n",
        "  l = lasio.read(f\"{source_dir}/{lasfile}\")\n",
        "  data = l.df()\n",
        "  data = data.replace('-999.00000',np.nan)\n",
        "  data.index.names = ['DEPT']\n",
        "  well = l.well.WELL.value    #This contain your well name\n",
        "  data['WELL'] = well         #This contain your log data\n",
        "\n",
        "  #Import your tops of interval\n",
        "  tops = pd.read_csv(f\"{source_dir}/{topsfile}\", sep='\\t')\n",
        "  tops_unit = tops['ROCK UNIT'].unique()    #This contain list of interval, adjust the column name to suit yours\n",
        "  \n",
        "  #Assign interval name to each point in your log data\n",
        "  data_well = pd.DataFrame()\n",
        "  for i in range(len(tops_unit)):\n",
        "    top = tops.iloc[i]['DEPTH']\n",
        "    if i < len(tops_unit)-1:\n",
        "      bottom = tops.iloc[i+1]['DEPTH']\n",
        "    else:\n",
        "      bottom = int(round(data.tail(1).index.item()))\n",
        "    data_interval = data.iloc[top:bottom, :]\n",
        "    data_interval['INTERVAL'] = tops.iloc[i]['ROCK UNIT']\n",
        "    data_well = data_well.append(data_interval)\n",
        "  data = data_well\n",
        "\n",
        "  return well,data\n",
        "\n",
        "#Function to determine lithology based on several conditions\n",
        "#data = your log data\n",
        "#gr = column number of GR log in your data\n",
        "#rhob = column number of RHOB log in your data\n",
        "def DetermineLithology (data, gr, rhob):\n",
        "  GR = data.iloc[:,gr]\n",
        "  RHOB = data.iloc[:,rhob]\n",
        "\n",
        "  #each condition refer to its lithology in following order, adjust to your specifications\n",
        "  conditions = [\n",
        "    (GR <=55) & (RHOB >= 2.71),\n",
        "    (GR <=55) & (RHOB >= 2.65),\n",
        "    (GR <=55) & (RHOB > 1.8),\n",
        "    (GR <=55) & (RHOB < 1.8),\n",
        "    (GR <=80),\n",
        "    (GR >=80)]\n",
        "  lithology = ['Dolomite', 'Limestone', 'Sandstone', 'Coal', 'Siltstone', 'Shale']\n",
        "  data['LITHOLOGY'] = np.select(conditions, lithology, default='Undefined')\n",
        "  return data\n",
        "\n",
        "#Function to calculate facies percentage for multiwell\n",
        "#data = your log data which already contain well name, interval name, and lithology each as a column\n",
        "def CalculatePercentage(data):\n",
        "  data_well = pd.DataFrame()\n",
        "  data_interval = pd.DataFrame()\n",
        "  F_well = pd.DataFrame()\n",
        "  Facies = pd.DataFrame()\n",
        "\n",
        "  for i in range(len(well)):\n",
        "    data_well=data.where(data['WELL']==well[i]).dropna()\n",
        "    interval = data_well['INTERVAL'].unique()\n",
        "    for j in range (len(interval)):\n",
        "      data_interval=data_well.where(data_well['INTERVAL']==interval[j]).dropna()\n",
        "      F_percent = data_interval['LITHOLOGY'].value_counts(normalize=True) * 100\n",
        "      F_percent = F_percent.sort_index()\n",
        "      F_percent['INTERVAL'] = interval[j]\n",
        "      F_percent= pd.DataFrame(F_percent).transpose()\n",
        "      F_well = F_well.append(F_percent)\n",
        "    F_well['WELL'] = well[i]\n",
        "    F_well = F_well.set_index('WELL')\n",
        "    Facies = Facies.append(F_well)\n",
        "    F_well = pd.DataFrame()\n",
        "  \n",
        "  Facies = Facies.reset_index()\n",
        "  Facies = Facies.fillna(0)\n",
        "  return Facies\n",
        "\n",
        "#Function to calculate facies percentage for single well\n",
        "#well = your well name\n",
        "#data = your log data which already contain well name, interval name, and lithology each as a column\n",
        "def CalculatePercentageSingleWell(well, data):\n",
        "  data_well = pd.DataFrame()\n",
        "  data_interval = pd.DataFrame()\n",
        "  F_well = pd.DataFrame()\n",
        "  Facies = pd.DataFrame()\n",
        "  tops_unit = data['INTERVAL'].unique()\n",
        "\n",
        "  for i in range (len(tops_unit)):\n",
        "      data_interval=data.where(data['INTERVAL']==tops_unit[i]).dropna()\n",
        "      F_percent = data_interval['LITHOLOGY'].value_counts(normalize=True) * 100\n",
        "      F_percent = F_percent.sort_index()\n",
        "      F_percent['INTERVAL'] = tops_unit[i]\n",
        "      F_percent= pd.DataFrame(F_percent).transpose()\n",
        "      F_well = F_well.append(F_percent)\n",
        "  F_well['WELL'] = well\n",
        "  Facies = Facies.append(F_well)\n",
        "  F_well = pd.DataFrame()\n",
        "  \n",
        "  Facies = Facies.reset_index()\n",
        "  Facies = Facies.fillna(0)\n",
        "  return Facies\n",
        "\n",
        "#Function to display a horizontal barchart of your calculated facies percentage\n",
        "def PlotBarChart(well):\n",
        "  facies_well = Facies#.where(Facies['WELL']==well)\n",
        "  interval = facies_well['INTERVAL'].unique()\n",
        "  \n",
        "  facies_well.plot.barh(stacked=True)\n",
        "  plt.yticks(range(len(interval)), interval)\n",
        "  plt.gca().invert_yaxis()\n",
        "  plt.ylabel(\"Formation\")\n",
        "  plt.xlabel(\"Facies Percentage\")\n",
        "  plt.title(well)\n",
        "  plt.legend(bbox_to_anchor=(1.1, 1.05))"
      ],
      "execution_count": null,
      "outputs": []
    },
    {
      "cell_type": "markdown",
      "metadata": {
        "id": "xh2HHh5aIJVG"
      },
      "source": [
        "####**Run the code**\n",
        "\n",
        "This is where you actually apply the function to your data"
      ]
    },
    {
      "cell_type": "code",
      "metadata": {
        "colab": {
          "base_uri": "https://localhost:8080/",
          "height": 380
        },
        "id": "Hwau1wikG7_A",
        "outputId": "9939e45e-860d-42c5-f511-8fc3f85092b1"
      },
      "source": [
        "#Set your source data directory, LAS file name, Tops of interval, and output file\n",
        "source_dir ='/content/drive/MyDrive/[2020] Genting/WellAlaska'\n",
        "lasfile = 'WA1.LAS'\n",
        "topsfile = 'WA1TOPS.txt'\n",
        "outfile = 'FaciesPercentage.csv'\n",
        "\n",
        "well, data = InputWell(source_dir,lasfile,topsfile)\n",
        "data = DetermineLithology(data,1,7)\n",
        "Facies = CalculatePercentageSingleWell(well, data)\n",
        "Facies.to_csv(outfile)\n",
        "PlotBarChart('Walakpa-1')"
      ],
      "execution_count": null,
      "outputs": [
        {
          "output_type": "stream",
          "text": [
            "/usr/local/lib/python3.6/dist-packages/ipykernel_launcher.py:39: SettingWithCopyWarning: \n",
            "A value is trying to be set on a copy of a slice from a DataFrame.\n",
            "Try using .loc[row_indexer,col_indexer] = value instead\n",
            "\n",
            "See the caveats in the documentation: https://pandas.pydata.org/pandas-docs/stable/user_guide/indexing.html#returning-a-view-versus-a-copy\n"
          ],
          "name": "stderr"
        },
        {
          "output_type": "display_data",
          "data": {
            "image/png": "[encoded data removed]",
            "text/plain": [
              "<Figure size 432x288 with 1 Axes>"
            ]
          },
          "metadata": {
            "tags": [],
            "needs_background": "light"
          }
        }
      ]
    },
    {
      "cell_type": "code",
      "metadata": {
        "id": "slDcLQ0cvS4V",
        "colab": {
          "base_uri": "https://localhost:8080/"
        },
        "outputId": "ba919340-c807-442f-ae94-77140acb91bb"
      },
      "source": [
        "from google.colab import drive\n",
        "drive.mount('/content/drive')"
      ],
      "execution_count": null,
      "outputs": [
        {
          "output_type": "stream",
          "text": [
            "Drive already mounted at /content/drive; to attempt to forcibly remount, call drive.mount(\"/content/drive\", force_remount=True).\n"
          ],
          "name": "stdout"
        }
      ]
    }
  ]
}